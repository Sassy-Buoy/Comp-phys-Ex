{
 "cells": [
  {
   "cell_type": "markdown",
   "metadata": {},
   "source": [
    "$$\\psi(x, t) = A \\cdot e^{-\\frac{(x - x_0)^2}{2\\sigma^2}} \\cdot e^{i(kx - \\omega t)}$$\n",
    "\n",
    "$$i \\hbar \\frac{{\\partial \\psi}}{{\\partial t}} = -\\frac{\\hbar^2}{2m} (\\frac{{\\partial^2 \\psi}}{{\\partial x^2}} + \\frac{{\\partial^2 \\psi}}{{\\partial y^2}}) + V(x, y) \\psi$$"
   ]
  },
  {
   "cell_type": "code",
   "execution_count": 26,
   "metadata": {},
   "outputs": [],
   "source": [
    "import numpy as np\n",
    "import matplotlib.pyplot as plt\n",
    "from matplotlib.animation import FuncAnimation\n",
    "import numpy as np\n",
    "from scipy.linalg import solve\n",
    "import matplotlib.pyplot as plt\n",
    "\n",
    "hbar = 0.6582119514\n",
    "m = 0.5109989461\n",
    "\n",
    "# 2D gaussian wave packet\n",
    "def wavepacket_2d(x, y, x0, y0, sigma_x, sigma_y, kx, ky, A):\n",
    "    envelope = np.exp(-((x - x0)**2 / (2 * sigma_x**2) + (y - y0)**2 / (2 * sigma_y**2)))\n",
    "    phase = np.exp(1j * (kx * x + ky * y))\n",
    "    wave_packet = A * envelope * phase\n",
    "    return wave_packet\n",
    "\n",
    "# infinite square well potential\n",
    "def V_2d(x, y, Lx, Ly):\n",
    "    V = np.zeros((len(x), len(y)))\n",
    "    for i in range(len(x)):\n",
    "        for j in range(len(y)):\n",
    "            if x[i] < -Lx or x[i] > Lx or y[j] < -Ly or y[j] > Ly:\n",
    "                V[i, j] = float('inf')\n",
    "    return V\n",
    "\n",
    "# Crank-Nicholson algorithm for solving the Schrödinger equation\n",
    "def crank_nicholson(x, y, dx, dy, dt, V, psi0):\n",
    "    # Number of points\n",
    "    nx = len(x)\n",
    "    ny = len(y)\n",
    "\n",
    "    # Calculate the coefficients\n",
    "    alpha_x = (1j * dt / (4 * dx**2))*(hbar**2 / (2 * m))\n",
    "    alpha_y = 1j * dt / (4 * dy**2)*(hbar**2 / (2 * m))\n",
    "    beta = 1 - 2 * alpha_x - 2 * alpha_y\n",
    "\n",
    "    # Initialize the wave function\n",
    "    psi = np.copy(psi0)\n",
    "\n",
    "    # AX = MY\n",
    "    for i in range(1, len(V)):\n",
    "        for j in range(1, len(V)):\n",
    "            # Construct A\n",
    "            A = np.diag(1 + 2*alpha_x + 2*alpha_y + 1j*dt*V[i,j]/2)  # diagonal\n",
    "            A += np.diag(-alpha_x * np.ones(nx - 1), 1)  # upper diagonal\n",
    "            A += np.diag(-alpha_x * np.ones(nx - 1), -1)  # lower diagonal\n",
    "            A += np.diag(-alpha_y * np.ones(ny - 1), ny)  # upper diagonal\n",
    "            A += np.diag(-alpha_y * np.ones(ny - 1), -ny)  # lower diagonal\n",
    "\n",
    "            # Construct M\n",
    "            M = np.diag(1 - 2*alpha_x - 2*alpha_y - 1j*dt*(V[i,j])/2)\n",
    "            M += np.diag(alpha_x * np.ones(nx - 1), 1)\n",
    "            M += np.diag(alpha_x * np.ones(nx - 1), -1)\n",
    "            M += np.diag(alpha_y * np.ones(ny - 1), ny)\n",
    "            M += np.diag(alpha_y * np.ones(ny - 1), -ny)\n",
    "\n",
    "            # Solve the linear system\n",
    "            psi = solve(A, np.dot(M, psi))\n",
    "\n",
    "    #for t in range(1, len(V)):\n",
    "    print(A)\n",
    "    return psi\n",
    "\n",
    "    "
   ]
  },
  {
   "cell_type": "code",
   "execution_count": 27,
   "metadata": {},
   "outputs": [
    {
     "ename": "ValueError",
     "evalue": "Input must be 1- or 2-d.",
     "output_type": "error",
     "traceback": [
      "\u001b[0;31m---------------------------------------------------------------------------\u001b[0m",
      "\u001b[0;31mValueError\u001b[0m                                Traceback (most recent call last)",
      "\u001b[1;32m/workspaces/Comp-phys-Ex/gwp.ipynb Cell 3\u001b[0m line \u001b[0;36m7\n\u001b[1;32m      <a href='vscode-notebook-cell://codespaces%2Bhumble-space-garbanzo-9p74w7vgpg6fpxw9/workspaces/Comp-phys-Ex/gwp.ipynb#W2sdnNjb2RlLXJlbW90ZQ%3D%3D?line=4'>5</a>\u001b[0m wave_packet \u001b[39m=\u001b[39m wavepacket_2d(X, Y, \u001b[39m0\u001b[39m, \u001b[39m0\u001b[39m, \u001b[39m1\u001b[39m, \u001b[39m1\u001b[39m, \u001b[39m1\u001b[39m, \u001b[39m1\u001b[39m, \u001b[39m1\u001b[39m)\n\u001b[1;32m      <a href='vscode-notebook-cell://codespaces%2Bhumble-space-garbanzo-9p74w7vgpg6fpxw9/workspaces/Comp-phys-Ex/gwp.ipynb#W2sdnNjb2RlLXJlbW90ZQ%3D%3D?line=5'>6</a>\u001b[0m V \u001b[39m=\u001b[39m V_2d(x, y, \u001b[39m9\u001b[39m, \u001b[39m9\u001b[39m)\n\u001b[0;32m----> <a href='vscode-notebook-cell://codespaces%2Bhumble-space-garbanzo-9p74w7vgpg6fpxw9/workspaces/Comp-phys-Ex/gwp.ipynb#W2sdnNjb2RlLXJlbW90ZQ%3D%3D?line=6'>7</a>\u001b[0m crank_nicholson(x, y, \u001b[39m0.1\u001b[39;49m, \u001b[39m0.1\u001b[39;49m, \u001b[39m0.1\u001b[39;49m, V, wave_packet)\n",
      "\u001b[1;32m/workspaces/Comp-phys-Ex/gwp.ipynb Cell 3\u001b[0m line \u001b[0;36m4\n\u001b[1;32m     <a href='vscode-notebook-cell://codespaces%2Bhumble-space-garbanzo-9p74w7vgpg6fpxw9/workspaces/Comp-phys-Ex/gwp.ipynb#W2sdnNjb2RlLXJlbW90ZQ%3D%3D?line=41'>42</a>\u001b[0m \u001b[39mfor\u001b[39;00m i \u001b[39min\u001b[39;00m \u001b[39mrange\u001b[39m(\u001b[39m1\u001b[39m, \u001b[39mlen\u001b[39m(V)):\n\u001b[1;32m     <a href='vscode-notebook-cell://codespaces%2Bhumble-space-garbanzo-9p74w7vgpg6fpxw9/workspaces/Comp-phys-Ex/gwp.ipynb#W2sdnNjb2RlLXJlbW90ZQ%3D%3D?line=42'>43</a>\u001b[0m     \u001b[39mfor\u001b[39;00m j \u001b[39min\u001b[39;00m \u001b[39mrange\u001b[39m(\u001b[39m1\u001b[39m, \u001b[39mlen\u001b[39m(V)):\n\u001b[1;32m     <a href='vscode-notebook-cell://codespaces%2Bhumble-space-garbanzo-9p74w7vgpg6fpxw9/workspaces/Comp-phys-Ex/gwp.ipynb#W2sdnNjb2RlLXJlbW90ZQ%3D%3D?line=43'>44</a>\u001b[0m         \u001b[39m# Construct A\u001b[39;00m\n\u001b[0;32m---> <a href='vscode-notebook-cell://codespaces%2Bhumble-space-garbanzo-9p74w7vgpg6fpxw9/workspaces/Comp-phys-Ex/gwp.ipynb#W2sdnNjb2RlLXJlbW90ZQ%3D%3D?line=44'>45</a>\u001b[0m         A \u001b[39m=\u001b[39m np\u001b[39m.\u001b[39;49mdiag(\u001b[39m1\u001b[39;49m \u001b[39m+\u001b[39;49m \u001b[39m2\u001b[39;49m\u001b[39m*\u001b[39;49malpha_x \u001b[39m+\u001b[39;49m \u001b[39m2\u001b[39;49m\u001b[39m*\u001b[39;49malpha_y \u001b[39m+\u001b[39;49m \u001b[39m1\u001b[39;49mj\u001b[39m*\u001b[39;49mdt\u001b[39m*\u001b[39;49mV[i,j]\u001b[39m/\u001b[39;49m\u001b[39m2\u001b[39;49m)  \u001b[39m# diagonal\u001b[39;00m\n\u001b[1;32m     <a href='vscode-notebook-cell://codespaces%2Bhumble-space-garbanzo-9p74w7vgpg6fpxw9/workspaces/Comp-phys-Ex/gwp.ipynb#W2sdnNjb2RlLXJlbW90ZQ%3D%3D?line=45'>46</a>\u001b[0m         A \u001b[39m+\u001b[39m\u001b[39m=\u001b[39m np\u001b[39m.\u001b[39mdiag(\u001b[39m-\u001b[39malpha_x \u001b[39m*\u001b[39m np\u001b[39m.\u001b[39mones(nx \u001b[39m-\u001b[39m \u001b[39m1\u001b[39m), \u001b[39m1\u001b[39m)  \u001b[39m# upper diagonal\u001b[39;00m\n\u001b[1;32m     <a href='vscode-notebook-cell://codespaces%2Bhumble-space-garbanzo-9p74w7vgpg6fpxw9/workspaces/Comp-phys-Ex/gwp.ipynb#W2sdnNjb2RlLXJlbW90ZQ%3D%3D?line=46'>47</a>\u001b[0m         A \u001b[39m+\u001b[39m\u001b[39m=\u001b[39m np\u001b[39m.\u001b[39mdiag(\u001b[39m-\u001b[39malpha_x \u001b[39m*\u001b[39m np\u001b[39m.\u001b[39mones(nx \u001b[39m-\u001b[39m \u001b[39m1\u001b[39m), \u001b[39m-\u001b[39m\u001b[39m1\u001b[39m)  \u001b[39m# lower diagonal\u001b[39;00m\n",
      "File \u001b[0;32m~/.local/lib/python3.10/site-packages/numpy/lib/twodim_base.py:303\u001b[0m, in \u001b[0;36mdiag\u001b[0;34m(v, k)\u001b[0m\n\u001b[1;32m    301\u001b[0m     \u001b[39mreturn\u001b[39;00m diagonal(v, k)\n\u001b[1;32m    302\u001b[0m \u001b[39melse\u001b[39;00m:\n\u001b[0;32m--> 303\u001b[0m     \u001b[39mraise\u001b[39;00m \u001b[39mValueError\u001b[39;00m(\u001b[39m\"\u001b[39m\u001b[39mInput must be 1- or 2-d.\u001b[39m\u001b[39m\"\u001b[39m)\n",
      "\u001b[0;31mValueError\u001b[0m: Input must be 1- or 2-d."
     ]
    }
   ],
   "source": [
    "# Example usage\n",
    "x = np.linspace(-10, 10, 100)\n",
    "y = np.linspace(-10, 10, 100)\n",
    "X, Y = np.meshgrid(x, y)\n",
    "wave_packet = wavepacket_2d(X, Y, 0, 0, 1, 1, 1, 1, 1)\n",
    "V = V_2d(x, y, 9, 9)\n",
    "crank_nicholson(x, y, 0.1, 0.1, 0.1, V, wave_packet)\n",
    "\n"
   ]
  },
  {
   "cell_type": "code",
   "execution_count": null,
   "metadata": {},
   "outputs": [],
   "source": [
    "plt.imshow(np.real(wave_packet), extent=[-10, 10, -10, 10])\n",
    "plt.colorbar()\n",
    "plt.xlabel('x')\n",
    "plt.ylabel('y')\n",
    "plt.title('2D Gaussian Wave Packet')\n",
    "plt.show()\n",
    "\n",
    "# 3D plot\n",
    "fig = plt.figure()\n",
    "ax = plt.axes(projection='3d')\n",
    "ax.plot_surface(X, Y, np.abs(wave_packet), cmap='viridis', edgecolor='none')\n",
    "ax.set_xlabel('x')\n",
    "ax.set_ylabel('y')\n",
    "ax.set_zlabel('z')\n",
    "ax.set_title('2D Gaussian Wave Packet')\n",
    "plt.show()\n",
    "\n",
    "fig = plt.figure()\n",
    "ax = plt.axes(projection='3d')\n",
    "ax.plot_surface(X, Y, V, cmap='viridis', edgecolor='none')\n",
    "ax.set_xlabel('x')\n",
    "ax.set_ylabel('y')\n",
    "ax.set_zlabel('z')\n",
    "ax.set_title('Infinite Square Well Potential')\n",
    "plt.show()"
   ]
  }
 ],
 "metadata": {
  "kernelspec": {
   "display_name": "Python 3",
   "language": "python",
   "name": "python3"
  },
  "language_info": {
   "codemirror_mode": {
    "name": "ipython",
    "version": 3
   },
   "file_extension": ".py",
   "mimetype": "text/x-python",
   "name": "python",
   "nbconvert_exporter": "python",
   "pygments_lexer": "ipython3",
   "version": "3.10.8"
  }
 },
 "nbformat": 4,
 "nbformat_minor": 2
}
