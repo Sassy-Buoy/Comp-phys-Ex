{
 "cells": [
  {
   "cell_type": "code",
   "execution_count": null,
   "metadata": {},
   "outputs": [],
   "source": [
    "import numpy as np\n",
    "from scipy.constants import hbar\n",
    "import matplotlib.pyplot as plt\n",
    "\n",
    "E1 = 1\n",
    "E2 = 1\n",
    "V = 1\n",
    "c0 = np.array([[1], [0]])\n",
    "h = 0.1\n",
    "H = np.array([[E1, V], [V, E2]])\n",
    "\n",
    "def f(H):\n",
    "      return complex(0, -1/hbar)*np.dot(H, c(n))\n",
    "\n",
    "def c(n):\n",
    "    k1 = f(H,c(n-1))\n",
    "    k2 = f(H, (c(n-1) + h*k1/2))\n",
    "    k3 = f(H, (c(n-1) + h*k2/2))\n",
    "    k4 = f(H, (c(n-1) + h*k3/2))\n",
    "    if n == 0:\n",
    "        return c0\n",
    "    else:\n",
    "        return c(n-1) + h*(k1 + 2*k2 + 2*k3 + k4)/6\n",
    "\n",
    "T, c1r, c1i, c2r, c2i = [], [], [], [], []\n",
    "for i in range(50):\n",
    "    T.append(i)\n",
    "    c1r.append(c(i)[0, 0].real)\n",
    "    c1i.append(c(i)[0, 0].imag)\n",
    "    c2r.append(c(i)[1, 0].real)\n",
    "    c1i.append(c(i)[1, 0].imag)\n",
    "\n",
    "#real\n",
    "plt.subplot(2, 1, 1)\n",
    "plt.plot(T, c1r, label = 'real')\n",
    "plt.plot(T, c1i, label = 'imag')\n",
    "plt.ylabel('c1')\n",
    "plt.legend()\n",
    "\n",
    "#real\n",
    "plt.subplot(2, 1, 2)\n",
    "plt.plot(T, c2r, label = 'real')\n",
    "plt.plot(T, c2i, label = 'imag')\n",
    "plt.ylabel('c2')\n",
    "plt.legend()\n",
    "\n",
    "plt.xlabel('time')\n",
    "plt.show()"
   ]
  }
 ],
 "metadata": {
  "language_info": {
   "name": "python"
  }
 },
 "nbformat": 4,
 "nbformat_minor": 2
}
