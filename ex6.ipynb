{
 "cells": [
  {
   "cell_type": "code",
   "execution_count": 4,
   "metadata": {},
   "outputs": [
    {
     "ename": "NameError",
     "evalue": "name 'sigma_x' is not defined",
     "output_type": "error",
     "traceback": [
      "\u001b[0;31m---------------------------------------------------------------------------\u001b[0m",
      "\u001b[0;31mNameError\u001b[0m                                 Traceback (most recent call last)",
      "Cell \u001b[0;32mIn[4], line 37\u001b[0m\n\u001b[1;32m     28\u001b[0m         \u001b[38;5;66;03m#H += np.tensordot()\u001b[39;00m\n\u001b[1;32m     29\u001b[0m         \n\u001b[1;32m     30\u001b[0m         \n\u001b[1;32m     31\u001b[0m         \u001b[38;5;66;03m#H -= np.kron(np.kron(np.kron(np.kron(np.kron(np.kron(np.eye(2**i), sigma_x), np.eye(2**(5-i))), sigma_x), np.eye(2**i)), sigma_y), np.eye(2**(5-i)))\u001b[39;00m\n\u001b[1;32m     32\u001b[0m         \u001b[38;5;66;03m#H -= np.kron(np.kron(np.kron(np.kron(np.kron(np.eye(2**i), sigma_y), np.eye(2**(5-i))), sigma_y), np.eye(2**i)), sigma_x), np.eye(2**(5-i))\u001b[39;00m\n\u001b[1;32m     33\u001b[0m         \u001b[38;5;66;03m#H -= np.kron(np.kron(np.kron(np.kron(np.kron(np.eye(2**i), sigma_z), np.eye(2**(5-i))), sigma_z), np.eye(2**i)), sigma_z), np.eye(2**(5-i))\u001b[39;00m\n\u001b[1;32m     34\u001b[0m     \u001b[38;5;28;01mreturn\u001b[39;00m J \u001b[38;5;241m*\u001b[39m H\n\u001b[0;32m---> 37\u001b[0m \u001b[38;5;28mprint\u001b[39m(\u001b[43mS\u001b[49m\u001b[43m(\u001b[49m\u001b[38;5;241;43m1\u001b[39;49m\u001b[43m,\u001b[49m\u001b[43m \u001b[49m\u001b[38;5;241;43m2\u001b[39;49m\u001b[43m)\u001b[49m)\n",
      "Cell \u001b[0;32mIn[4], line 15\u001b[0m, in \u001b[0;36mS\u001b[0;34m(i, N)\u001b[0m\n\u001b[1;32m     13\u001b[0m \u001b[38;5;28;01mfor\u001b[39;00m j \u001b[38;5;129;01min\u001b[39;00m \u001b[38;5;28mrange\u001b[39m(\u001b[38;5;241m1\u001b[39m, N\u001b[38;5;241m+\u001b[39m\u001b[38;5;241m1\u001b[39m):\n\u001b[1;32m     14\u001b[0m     \u001b[38;5;28;01mif\u001b[39;00m j \u001b[38;5;241m==\u001b[39m i:\n\u001b[0;32m---> 15\u001b[0m         S\u001b[38;5;241m.\u001b[39mappend(\u001b[43msigma_x\u001b[49m)\n\u001b[1;32m     16\u001b[0m     \u001b[38;5;28;01melse\u001b[39;00m:\n\u001b[1;32m     17\u001b[0m         S\u001b[38;5;241m.\u001b[39mappend(np\u001b[38;5;241m.\u001b[39meye(\u001b[38;5;241m2\u001b[39m))\n",
      "\u001b[0;31mNameError\u001b[0m: name 'sigma_x' is not defined"
     ]
    }
   ],
   "source": [
    "import numpy as np\n",
    "\n",
    "\n",
    "# Pauli matrices\n",
    "S_plus = np.array([[0, 1], [0, 0]])\n",
    "S_minus = np.array([[0, 0], [1, 0]])\n",
    "S_z = 0.5 * np.array([[1, 0], [0, -1]])\n",
    "\n",
    "\n",
    "def S(i, N = 6):\n",
    "    \"\"\"Vector operator S_i of spin-1/2 particle\"\"\"\n",
    "    S = []\n",
    "    for j in range(1, N+1):\n",
    "        if j == i:\n",
    "            S.append(sigma_x)\n",
    "        else:\n",
    "            S.append(np.eye(2))\n",
    "    return S\n",
    "\n",
    "\n",
    "def H_chain(J, N = 6):\n",
    "    \"\"\"Hamiltonian of 1D isotropic spin-1/2 Heisenberg chain consisting of 6 spins\"\"\"\n",
    "    \n",
    "    # Hamiltonian\n",
    "    H = np.zeros((2**N, 2**N), dtype=complex)\n",
    "    for i in range(1, N+1):\n",
    "        print(i)\n",
    "        #H += np.tensordot()\n",
    "        \n",
    "        \n",
    "        #H -= np.kron(np.kron(np.kron(np.kron(np.kron(np.kron(np.eye(2**i), sigma_x), np.eye(2**(5-i))), sigma_x), np.eye(2**i)), sigma_y), np.eye(2**(5-i)))\n",
    "        #H -= np.kron(np.kron(np.kron(np.kron(np.kron(np.eye(2**i), sigma_y), np.eye(2**(5-i))), sigma_y), np.eye(2**i)), sigma_x), np.eye(2**(5-i))\n",
    "        #H -= np.kron(np.kron(np.kron(np.kron(np.kron(np.eye(2**i), sigma_z), np.eye(2**(5-i))), sigma_z), np.eye(2**i)), sigma_z), np.eye(2**(5-i))\n",
    "    return J * H\n",
    "\n",
    "\n",
    "print(S(1, 2))\n"
   ]
  },
  {
   "cell_type": "code",
   "execution_count": 8,
   "metadata": {},
   "outputs": [
    {
     "name": "stdout",
     "output_type": "stream",
     "text": [
      "00\n",
      "01\n",
      "10\n",
      "11\n",
      "[[ 0.5  0.   0.   0. ]\n",
      " [ 0.  -0.5  1.   0. ]\n",
      " [ 0.   1.  -0.5  0. ]\n",
      " [ 0.   0.   0.   0.5]]\n"
     ]
    }
   ],
   "source": [
    "import numpy as np\n",
    "N = 2\n",
    "z='0'*N\n",
    "H=np.zeros((2**N,2**N))\n",
    "for a in range(2**N):\n",
    "    state_chain=bin(a)[2:] # the first two should be omitted for this 'bin' function\n",
    "    l=len(state_chain)\n",
    "    state_chain=z[0:N-l]+state_chain # make the length equal to N\n",
    "    print(state_chain)\n",
    "  # for PBC, we set i in range(N)\n",
    "  # for OBC, we set i in range(N-1)\n",
    "    for i in range(N):\n",
    "        j=np.mod(i+1,N)\n",
    " #       print(state_chain)\n",
    "        if state_chain[i]==state_chain[j]: # i=j only diagonal elements\n",
    "            H[a,a]+=0.25\n",
    "#            print('a:',a)\n",
    "        else:                              # else, the raising/lowering operators also have contributions\n",
    "            H[a,a]-=0.25\n",
    "            # then exchange i,j\n",
    "            element_i=state_chain[i]\n",
    "            element_j=state_chain[j]\n",
    "            #flip\n",
    "            if j==0:\n",
    "#here we are doing the concatenation of string (you can try other methods)\n",
    "#                    print(state_chain)\n",
    "                state_chain1=element_i+state_chain[1:N-1]+element_j\n",
    "            else:\n",
    "                state_chain1=state_chain[0:i]+element_j+element_i+state_chain[j+1:]\n",
    "#            print(state_chain)\n",
    "            b=int(state_chain1,2)\n",
    "#            print('a:',a)\n",
    "#            print('b:',b)\n",
    "            H[a,b]+=0.5\n",
    "\n",
    "print(H)"
   ]
  }
 ],
 "metadata": {
  "kernelspec": {
   "display_name": "Python 3",
   "language": "python",
   "name": "python3"
  },
  "language_info": {
   "codemirror_mode": {
    "name": "ipython",
    "version": 3
   },
   "file_extension": ".py",
   "mimetype": "text/x-python",
   "name": "python",
   "nbconvert_exporter": "python",
   "pygments_lexer": "ipython3",
   "version": "3.10.8"
  }
 },
 "nbformat": 4,
 "nbformat_minor": 2
}
