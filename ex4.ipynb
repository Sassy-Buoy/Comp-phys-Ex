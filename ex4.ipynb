{
 "cells": [
  {
   "cell_type": "code",
   "execution_count": null,
   "metadata": {},
   "outputs": [],
   "source": [
    "import numpy as np\n",
    "import matplotlib.pyplot as plt\n",
    "\n",
    "hbar = 1.0  # Reduced Planck's constant\n",
    "m = 1.0  # Mass\n",
    "C = 1.0\n",
    "L = 10.0  # Length of the system\n",
    "N = 1000  # Number of spatial grid points\n",
    "dx = L / N  # Spatial step size\n",
    "dt = 0.01  # Time step size\n",
    "t_max = 10.0  # Maximum simulation time\n",
    "\n",
    "# Potential function\n",
    "def potential(x, x0, C):\n",
    "    return 0.5 * C * (np.abs(x) - x0)**2\n",
    "\n",
    "# Initial wave function\n",
    "def psi0(x, C):\n",
    "    w = (C/m)**0.5\n",
    "    return m * w / (np.pi * hbar)**0.25 * np.exp(-0.5 * m * w * x ** 2 / hbar)\n",
    "\n",
    "# Initialize spatial grid\n",
    "x = np.linspace(-L / 2, L / 2, N)\n",
    "\n",
    "# Initialize wave function\n",
    "psi = initial_wave_function(x)\n",
    "\n",
    "# Initialize time\n",
    "t = 0.0\n",
    "\n",
    "# Main loop\n",
    "while t < t_max:\n",
    "    # Kinetic evolution\n",
    "    psi = np.fft.ifft(np.exp(-0.5j * dt * (hbar / m) * (np.fft.fftfreq(N, dx) ** 2)) * np.fft.fft(psi))\n",
    "    \n",
    "    # Potential evolution\n",
    "    psi *= np.exp(-1j * dt * potential(x) / hbar)\n",
    "    \n",
    "    # Kinetic evolution\n",
    "    psi = np.fft.ifft(np.exp(-0.5j * dt * (hbar / m) * (np.fft.fftfreq(N, dx) ** 2)) * np.fft.fft(psi))\n",
    "    \n",
    "    # Update time\n",
    "    t += dt\n",
    "\n",
    "# Plot the final wave function\n",
    "plt.plot(x, np.abs(psi) ** 2)\n",
    "plt.xlabel('Position')\n",
    "plt.ylabel('Probability Density')\n",
    "plt.title('Double Potential Well')\n",
    "plt.show()\n"
   ]
  }
 ],
 "metadata": {
  "language_info": {
   "name": "python"
  }
 },
 "nbformat": 4,
 "nbformat_minor": 2
}
