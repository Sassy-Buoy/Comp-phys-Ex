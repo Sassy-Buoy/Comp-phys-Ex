{
 "cells": [
  {
   "cell_type": "markdown",
   "metadata": {},
   "source": [
    "# Exercise 2\n",
    "#### Sasi Tummala"
   ]
  },
  {
   "cell_type": "code",
   "execution_count": 4,
   "metadata": {},
   "outputs": [
    {
     "ename": "RecursionError",
     "evalue": "maximum recursion depth exceeded",
     "output_type": "error",
     "traceback": [
      "\u001b[0;31m---------------------------------------------------------------------------\u001b[0m",
      "\u001b[0;31mRecursionError\u001b[0m                            Traceback (most recent call last)",
      "\u001b[1;32m/afs/physnet.uni-hamburg.de/users/AU/stummala/Comp-phys-Ex/ex2.ipynb Cell 2\u001b[0m line \u001b[0;36m2\n\u001b[1;32m     <a href='vscode-notebook-cell:/afs/physnet.uni-hamburg.de/users/AU/stummala/Comp-phys-Ex/ex2.ipynb#W0sZmlsZQ%3D%3D?line=24'>25</a>\u001b[0m \u001b[39mfor\u001b[39;00m i \u001b[39min\u001b[39;00m \u001b[39mrange\u001b[39m(\u001b[39m1\u001b[39m):\n\u001b[1;32m     <a href='vscode-notebook-cell:/afs/physnet.uni-hamburg.de/users/AU/stummala/Comp-phys-Ex/ex2.ipynb#W0sZmlsZQ%3D%3D?line=25'>26</a>\u001b[0m     T\u001b[39m.\u001b[39mappend(i)\n\u001b[0;32m---> <a href='vscode-notebook-cell:/afs/physnet.uni-hamburg.de/users/AU/stummala/Comp-phys-Ex/ex2.ipynb#W0sZmlsZQ%3D%3D?line=26'>27</a>\u001b[0m     c1r\u001b[39m.\u001b[39mappend(c(i)[\u001b[39m0\u001b[39m, \u001b[39m0\u001b[39m]\u001b[39m.\u001b[39mreal)\n\u001b[1;32m     <a href='vscode-notebook-cell:/afs/physnet.uni-hamburg.de/users/AU/stummala/Comp-phys-Ex/ex2.ipynb#W0sZmlsZQ%3D%3D?line=27'>28</a>\u001b[0m     c1i\u001b[39m.\u001b[39mappend(c(i)[\u001b[39m0\u001b[39m, \u001b[39m0\u001b[39m]\u001b[39m.\u001b[39mimag)\n\u001b[1;32m     <a href='vscode-notebook-cell:/afs/physnet.uni-hamburg.de/users/AU/stummala/Comp-phys-Ex/ex2.ipynb#W0sZmlsZQ%3D%3D?line=28'>29</a>\u001b[0m     c2r\u001b[39m.\u001b[39mappend(c(i)[\u001b[39m1\u001b[39m, \u001b[39m0\u001b[39m]\u001b[39m.\u001b[39mreal)\n",
      "\u001b[1;32m/afs/physnet.uni-hamburg.de/users/AU/stummala/Comp-phys-Ex/ex2.ipynb Cell 2\u001b[0m line \u001b[0;36m1\n\u001b[1;32m     <a href='vscode-notebook-cell:/afs/physnet.uni-hamburg.de/users/AU/stummala/Comp-phys-Ex/ex2.ipynb#W0sZmlsZQ%3D%3D?line=12'>13</a>\u001b[0m \u001b[39mdef\u001b[39;00m \u001b[39mf\u001b[39m(H):\n\u001b[1;32m     <a href='vscode-notebook-cell:/afs/physnet.uni-hamburg.de/users/AU/stummala/Comp-phys-Ex/ex2.ipynb#W0sZmlsZQ%3D%3D?line=13'>14</a>\u001b[0m   \u001b[39mreturn\u001b[39;00m \u001b[39mcomplex\u001b[39m(\u001b[39m0\u001b[39m, \u001b[39m-\u001b[39m\u001b[39m1\u001b[39m\u001b[39m/\u001b[39mhbar)\u001b[39m*\u001b[39mnp\u001b[39m.\u001b[39mdot(H, c(n))\n\u001b[0;32m---> <a href='vscode-notebook-cell:/afs/physnet.uni-hamburg.de/users/AU/stummala/Comp-phys-Ex/ex2.ipynb#W0sZmlsZQ%3D%3D?line=14'>15</a>\u001b[0m k1 \u001b[39m=\u001b[39m f(H,c(n\u001b[39m-\u001b[39;49m\u001b[39m1\u001b[39;49m))\n\u001b[1;32m     <a href='vscode-notebook-cell:/afs/physnet.uni-hamburg.de/users/AU/stummala/Comp-phys-Ex/ex2.ipynb#W0sZmlsZQ%3D%3D?line=15'>16</a>\u001b[0m k2 \u001b[39m=\u001b[39m f(H, (c(n\u001b[39m-\u001b[39m\u001b[39m1\u001b[39m) \u001b[39m+\u001b[39m h\u001b[39m*\u001b[39mk1\u001b[39m/\u001b[39m\u001b[39m2\u001b[39m))\n\u001b[1;32m     <a href='vscode-notebook-cell:/afs/physnet.uni-hamburg.de/users/AU/stummala/Comp-phys-Ex/ex2.ipynb#W0sZmlsZQ%3D%3D?line=16'>17</a>\u001b[0m k3 \u001b[39m=\u001b[39m f(H, (c(n\u001b[39m-\u001b[39m\u001b[39m1\u001b[39m) \u001b[39m+\u001b[39m h\u001b[39m*\u001b[39mk2\u001b[39m/\u001b[39m\u001b[39m2\u001b[39m))\n",
      "\u001b[1;32m/afs/physnet.uni-hamburg.de/users/AU/stummala/Comp-phys-Ex/ex2.ipynb Cell 2\u001b[0m line \u001b[0;36m1\n\u001b[1;32m     <a href='vscode-notebook-cell:/afs/physnet.uni-hamburg.de/users/AU/stummala/Comp-phys-Ex/ex2.ipynb#W0sZmlsZQ%3D%3D?line=12'>13</a>\u001b[0m \u001b[39mdef\u001b[39;00m \u001b[39mf\u001b[39m(H):\n\u001b[1;32m     <a href='vscode-notebook-cell:/afs/physnet.uni-hamburg.de/users/AU/stummala/Comp-phys-Ex/ex2.ipynb#W0sZmlsZQ%3D%3D?line=13'>14</a>\u001b[0m   \u001b[39mreturn\u001b[39;00m \u001b[39mcomplex\u001b[39m(\u001b[39m0\u001b[39m, \u001b[39m-\u001b[39m\u001b[39m1\u001b[39m\u001b[39m/\u001b[39mhbar)\u001b[39m*\u001b[39mnp\u001b[39m.\u001b[39mdot(H, c(n))\n\u001b[0;32m---> <a href='vscode-notebook-cell:/afs/physnet.uni-hamburg.de/users/AU/stummala/Comp-phys-Ex/ex2.ipynb#W0sZmlsZQ%3D%3D?line=14'>15</a>\u001b[0m k1 \u001b[39m=\u001b[39m f(H,c(n\u001b[39m-\u001b[39;49m\u001b[39m1\u001b[39;49m))\n\u001b[1;32m     <a href='vscode-notebook-cell:/afs/physnet.uni-hamburg.de/users/AU/stummala/Comp-phys-Ex/ex2.ipynb#W0sZmlsZQ%3D%3D?line=15'>16</a>\u001b[0m k2 \u001b[39m=\u001b[39m f(H, (c(n\u001b[39m-\u001b[39m\u001b[39m1\u001b[39m) \u001b[39m+\u001b[39m h\u001b[39m*\u001b[39mk1\u001b[39m/\u001b[39m\u001b[39m2\u001b[39m))\n\u001b[1;32m     <a href='vscode-notebook-cell:/afs/physnet.uni-hamburg.de/users/AU/stummala/Comp-phys-Ex/ex2.ipynb#W0sZmlsZQ%3D%3D?line=16'>17</a>\u001b[0m k3 \u001b[39m=\u001b[39m f(H, (c(n\u001b[39m-\u001b[39m\u001b[39m1\u001b[39m) \u001b[39m+\u001b[39m h\u001b[39m*\u001b[39mk2\u001b[39m/\u001b[39m\u001b[39m2\u001b[39m))\n",
      "    \u001b[0;31m[... skipping similar frames: c at line 15 (2970 times)]\u001b[0m\n",
      "\u001b[1;32m/afs/physnet.uni-hamburg.de/users/AU/stummala/Comp-phys-Ex/ex2.ipynb Cell 2\u001b[0m line \u001b[0;36m1\n\u001b[1;32m     <a href='vscode-notebook-cell:/afs/physnet.uni-hamburg.de/users/AU/stummala/Comp-phys-Ex/ex2.ipynb#W0sZmlsZQ%3D%3D?line=12'>13</a>\u001b[0m \u001b[39mdef\u001b[39;00m \u001b[39mf\u001b[39m(H):\n\u001b[1;32m     <a href='vscode-notebook-cell:/afs/physnet.uni-hamburg.de/users/AU/stummala/Comp-phys-Ex/ex2.ipynb#W0sZmlsZQ%3D%3D?line=13'>14</a>\u001b[0m   \u001b[39mreturn\u001b[39;00m \u001b[39mcomplex\u001b[39m(\u001b[39m0\u001b[39m, \u001b[39m-\u001b[39m\u001b[39m1\u001b[39m\u001b[39m/\u001b[39mhbar)\u001b[39m*\u001b[39mnp\u001b[39m.\u001b[39mdot(H, c(n))\n\u001b[0;32m---> <a href='vscode-notebook-cell:/afs/physnet.uni-hamburg.de/users/AU/stummala/Comp-phys-Ex/ex2.ipynb#W0sZmlsZQ%3D%3D?line=14'>15</a>\u001b[0m k1 \u001b[39m=\u001b[39m f(H,c(n\u001b[39m-\u001b[39;49m\u001b[39m1\u001b[39;49m))\n\u001b[1;32m     <a href='vscode-notebook-cell:/afs/physnet.uni-hamburg.de/users/AU/stummala/Comp-phys-Ex/ex2.ipynb#W0sZmlsZQ%3D%3D?line=15'>16</a>\u001b[0m k2 \u001b[39m=\u001b[39m f(H, (c(n\u001b[39m-\u001b[39m\u001b[39m1\u001b[39m) \u001b[39m+\u001b[39m h\u001b[39m*\u001b[39mk1\u001b[39m/\u001b[39m\u001b[39m2\u001b[39m))\n\u001b[1;32m     <a href='vscode-notebook-cell:/afs/physnet.uni-hamburg.de/users/AU/stummala/Comp-phys-Ex/ex2.ipynb#W0sZmlsZQ%3D%3D?line=16'>17</a>\u001b[0m k3 \u001b[39m=\u001b[39m f(H, (c(n\u001b[39m-\u001b[39m\u001b[39m1\u001b[39m) \u001b[39m+\u001b[39m h\u001b[39m*\u001b[39mk2\u001b[39m/\u001b[39m\u001b[39m2\u001b[39m))\n",
      "\u001b[0;31mRecursionError\u001b[0m: maximum recursion depth exceeded"
     ]
    }
   ],
   "source": [
    "import numpy as np\n",
    "from scipy.constants import hbar\n",
    "import matplotlib.pyplot as plt\n",
    "\n",
    "E1 = 1\n",
    "E2 = 1\n",
    "V = 1\n",
    "c0 = np.array([[1], [0]])\n",
    "h = 0.1\n",
    "H = np.array([[E1, V], [V, E2]])\n",
    "N = 500\n",
    "\n",
    "def f(H):\n",
    "    return complex(0, -1/hbar)*np.dot(H, c(n))\n",
    "\n",
    "T, c1, c2 = range(N), [], []\n",
    "\n",
    "for i in T:\n",
    "    \n",
    "\n",
    "\n",
    "\n",
    "\n",
    "def c(n):\n",
    "    k1 = f(H,c(n-1))\n",
    "    k2 = f(H, (c(n-1) + h*k1/2))\n",
    "    k3 = f(H, (c(n-1) + h*k2/2))\n",
    "    k4 = f(H, (c(n-1) + h*k3/2))\n",
    "    if n == 0:\n",
    "        return c0\n",
    "    else:\n",
    "        return c(n-1) + h*(k1 + 2*k2 + 2*k3 + k4)/6\n",
    "\n",
    "T, c1r, c1i, c2r, c2i = [], [], [], [], []\n",
    "for i in range(500):\n",
    "    T.append(i)\n",
    "    c1r.append(c(i)[0, 0].real)\n",
    "    c1i.append(c(i)[0, 0].imag)\n",
    "    c2r.append(c(i)[1, 0].real)\n",
    "    c1i.append(c(i)[1, 0].imag)\n",
    "\n",
    "#real\n",
    "plt.subplot(2, 1, 1)\n",
    "plt.plot(T, c1r, label = 'real')\n",
    "plt.plot(T, c1i, label = 'imag')\n",
    "plt.ylabel('c1')\n",
    "plt.legend()\n",
    "\n",
    "#real\n",
    "plt.subplot(2, 1, 2)\n",
    "plt.plot(T, c2r, label = 'real')\n",
    "plt.plot(T, c2i, label = 'imag')\n",
    "plt.ylabel('c2')\n",
    "plt.legend()\n",
    "\n",
    "plt.xlabel('time')\n",
    "plt.show()"
   ]
  }
 ],
 "metadata": {
  "kernelspec": {
   "display_name": "Python 3",
   "language": "python",
   "name": "python3"
  },
  "language_info": {
   "codemirror_mode": {
    "name": "ipython",
    "version": 3
   },
   "file_extension": ".py",
   "mimetype": "text/x-python",
   "name": "python",
   "nbconvert_exporter": "python",
   "pygments_lexer": "ipython3",
   "version": "3.10.12"
  }
 },
 "nbformat": 4,
 "nbformat_minor": 2
}
